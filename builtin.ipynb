{
 "cells": [
  {
   "cell_type": "code",
   "execution_count": 1,
   "id": "ebdde943-851d-408c-b2e2-ef0be61a8bc6",
   "metadata": {},
   "outputs": [
    {
     "name": "stdout",
     "output_type": "stream",
     "text": [
      "120\n"
     ]
    }
   ],
   "source": [
    "# 1 task\n",
    "list_of_numbers = [1, 2, 3, 4, 5]\n",
    "sum = 1\n",
    "for i in list_of_numbers:\n",
    "    sum *= i\n",
    "print(sum)"
   ]
  },
  {
   "cell_type": "code",
   "execution_count": 5,
   "id": "0dabe841-be59-4ac2-9946-a9b7d8487dbd",
   "metadata": {},
   "outputs": [
    {
     "name": "stdout",
     "output_type": "stream",
     "text": [
      "Uppercase: 2, lowercase: 8\n"
     ]
    }
   ],
   "source": [
    "# 2 task\n",
    "def count(s):\n",
    "    sum_uppercase = 0\n",
    "    sum_lowercase = 0\n",
    "    for i in s:\n",
    "        if i.isupper():\n",
    "            sum_uppercase += 1\n",
    "        elif i.islower():\n",
    "            sum_lowercase += 1\n",
    "    print(f\"Uppercase: {sum_uppercase}, lowercase: {sum_lowercase}\")\n",
    "\n",
    "count(\"Hello World\")"
   ]
  },
  {
   "cell_type": "code",
   "execution_count": 7,
   "id": "6ea7c9fb-7319-475d-8c6c-661ba53ae200",
   "metadata": {},
   "outputs": [
    {
     "name": "stdout",
     "output_type": "stream",
     "text": [
      "True\n",
      "False\n"
     ]
    }
   ],
   "source": [
    "# 3 task\n",
    "def is_palindrome(s):\n",
    "    return s == s[::-1]  \n",
    "\n",
    "print(is_palindrome(\"radar\"))  \n",
    "print(is_palindrome(\"hello\"))  "
   ]
  },
  {
   "cell_type": "code",
   "execution_count": null,
   "id": "43e3e85f-74dc-4931-b9b2-0c1637235876",
   "metadata": {},
   "outputs": [],
   "source": [
    "# 4 task\n",
    "import time\n",
    "import math\n",
    "\n",
    "def delayed_sqrt(number, delay_ms):\n",
    "    time.sleep(delay_ms / 1000)  \n",
    "    result = math.sqrt(number)  \n",
    "    print(f\"Square root of {number} after {delay_ms} milliseconds is {result}\")\n",
    "\n",
    "num = int(input())\n",
    "delay = int(input())  \n",
    "\n",
    "delayed_sqrt(num, delay)"
   ]
  },
  {
   "cell_type": "code",
   "execution_count": null,
   "id": "7191d018-6314-4b31-b619-2aef0abf2dde",
   "metadata": {},
   "outputs": [],
   "source": [
    "# 5 task\n",
    "def check_all_true(t):\n",
    "    return all(t)
    "\n",
    "print(check_all_true((True, True, True)))  
    "print(check_all_true((True, False, True)))  
    "print(check_all_true((1, 2, 3)))           
    "print(check_all_true((0, 1, 2)))           \n",
    "print(check_all_true((\"\", \"Hello\")))       "
   ]
  }
 ],
 "metadata": {
  "kernelspec": {
   "display_name": "Python [conda env:base] *",
   "language": "python",
   "name": "conda-base-py"
  },
  "language_info": {
   "codemirror_mode": {
    "name": "ipython",
    "version": 3
   },
   "file_extension": ".py",
   "mimetype": "text/x-python",
   "name": "python",
   "nbconvert_exporter": "python",
   "pygments_lexer": "ipython3",
   "version": "3.12.7"
  }
 },
 "nbformat": 4,
 "nbformat_minor": 5
}
