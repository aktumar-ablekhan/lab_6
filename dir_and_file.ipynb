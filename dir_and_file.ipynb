{
 "cells": [
  {
   "cell_type": "code",
   "execution_count": 3,
   "id": "6993e0db-2f50-4376-8656-5d178b721f54",
   "metadata": {},
   "outputs": [
    {
     "name": "stdout",
     "output_type": "stream",
     "text": [
      "Directories: ['.anaconda', '.conda', '.continuum', '.ipynb_checkpoints', '.ipython', '.jupyter', '.matplotlib', '.virtual_documents', '.vscode', 'anaconda3', 'anaconda_projects', 'AppData', 'Application Data', 'Contacts', 'Cookies', 'Desktop', 'Documents', 'Downloads', 'Favorites', 'Ivanov', 'Links', 'Local Settings', 'Music', 'NetHood', 'OneDrive', 'Pictures', 'PrintHood', 'projects', 'Recent', 'Sabit', 'Saved Games', 'Searches', 'SendTo', 'Videos', '__pycache__', 'главное меню', 'Мои документы', 'Шаблоны']\n",
      "Files: ['.bash_history', '.condarc', '.gitconfig', '1.cpp', '1.txt', '14.ipynb', 'date.ipynb', 'f1_1.ipynb', 'f2_2.ipynb', 'f2_3.ipynb', 'f2_4.ipynb', 'f2_5.ipynb', 'generators.ipynb', 'json.ipynb', 'laaab2.ipynb', 'lab3.py', 'Lab3_func1_class.ipynb', 'lab5.ipynb', 'NTUSER.DAT', 'ntuser.dat.LOG1', 'ntuser.dat.LOG2', 'NTUSER.DAT{57a3d9e0-8428-11ef-8960-889412dca098}.TM.blf', 'NTUSER.DAT{57a3d9e0-8428-11ef-8960-889412dca098}.TMContainer00000000000000000001.regtrans-ms', 'NTUSER.DAT{57a3d9e0-8428-11ef-8960-889412dca098}.TMContainer00000000000000000002.regtrans-ms', 'ntuser.ini', 'Untitled.ipynb', 'untitled.py', 'Untitled1.ipynb', 'Untitled10.ipynb', 'Untitled11.ipynb', 'Untitled12.ipynb', 'Untitled13.ipynb', 'Untitled2.ipynb', 'Untitled3.ipynb', 'Untitled4.ipynb', 'Untitled5.ipynb', 'Untitled6.ipynb', 'Untitled7.ipynb', 'Untitled8.ipynb', 'Untitled9.ipynb']\n",
      "All items: ['.anaconda', '.bash_history', '.conda', '.condarc', '.continuum', '.gitconfig', '.ipynb_checkpoints', '.ipython', '.jupyter', '.matplotlib', '.virtual_documents', '.vscode', '1.cpp', '1.txt', '14.ipynb', 'anaconda3', 'anaconda_projects', 'AppData', 'Application Data', 'Contacts', 'Cookies', 'date.ipynb', 'Desktop', 'Documents', 'Downloads', 'f1_1.ipynb', 'f2_2.ipynb', 'f2_3.ipynb', 'f2_4.ipynb', 'f2_5.ipynb', 'Favorites', 'generators.ipynb', 'Ivanov', 'json.ipynb', 'laaab2.ipynb', 'lab3.py', 'Lab3_func1_class.ipynb', 'lab5.ipynb', 'Links', 'Local Settings', 'Music', 'NetHood', 'NTUSER.DAT', 'ntuser.dat.LOG1', 'ntuser.dat.LOG2', 'NTUSER.DAT{57a3d9e0-8428-11ef-8960-889412dca098}.TM.blf', 'NTUSER.DAT{57a3d9e0-8428-11ef-8960-889412dca098}.TMContainer00000000000000000001.regtrans-ms', 'NTUSER.DAT{57a3d9e0-8428-11ef-8960-889412dca098}.TMContainer00000000000000000002.regtrans-ms', 'ntuser.ini', 'OneDrive', 'Pictures', 'PrintHood', 'projects', 'Recent', 'Sabit', 'Saved Games', 'Searches', 'SendTo', 'Untitled.ipynb', 'untitled.py', 'Untitled1.ipynb', 'Untitled10.ipynb', 'Untitled11.ipynb', 'Untitled12.ipynb', 'Untitled13.ipynb', 'Untitled2.ipynb', 'Untitled3.ipynb', 'Untitled4.ipynb', 'Untitled5.ipynb', 'Untitled6.ipynb', 'Untitled7.ipynb', 'Untitled8.ipynb', 'Untitled9.ipynb', 'Videos', '__pycache__', 'главное меню', 'Мои документы', 'Шаблоны']\n"
     ]
    }
   ],
   "source": [
    "# 1 task\n",
    "import os\n",
    "\n",
    "def list_files_and_dirs(path):\n",
    "    items = os.listdir(path)\n",
    "\n",
    "    directories = [d for d in items if os.path.isdir(os.path.join(path, d))]\n",
    "    files = [f for f in items if os.path.isfile(os.path.join(path, f))]\n",
    "\n",
    "    print(\"Directories:\", directories)\n",
    "    print(\"Files:\", files)\n",
    "    print(\"All items:\", items)\n",
    "\n",
    "list_files_and_dirs(\".\")"
   ]
  },
  {
   "cell_type": "code",
   "execution_count": 5,
   "id": "04ad7d6e-7c96-4776-a15a-2290f24be13a",
   "metadata": {},
   "outputs": [
    {
     "name": "stdout",
     "output_type": "stream",
     "text": [
      "Path: .\n",
      "Exists: True\n",
      "Readable: True\n",
      "Writable: True\n",
      "Executable: True\n"
     ]
    }
   ],
   "source": [
    "# 2 task\n",
    "import os\n",
    "\n",
    "def check_path_access(path):\n",
    "    exists = os.path.exists(path)\n",
    "    \n",
    "    readable = os.access(path, os.R_OK)  \n",
    "    writable = os.access(path, os.W_OK)   \n",
    "    executable = os.access(path, os.X_OK)  \n",
    " \n",
    "    print(f\"Path: {path}\")\n",
    "    print(f\"Exists: {exists}\")\n",
    "    print(f\"Readable: {readable}\")\n",
    "    print(f\"Writable: {writable}\")\n",
    "    print(f\"Executable: {executable}\")\n",
    "    \n",
    "check_path_access(\".\") "
   ]
  },
  {
   "cell_type": "code",
   "execution_count": 11,
   "id": "a50814f7-cb49-4899-940f-24ae9f86ce12",
   "metadata": {},
   "outputs": [
    {
     "name": "stdout",
     "output_type": "stream",
     "text": [
      "Path 'example.txt' does not exist.\n"
     ]
    }
   ],
   "source": [
    "# 3 task\n",
    "import os\n",
    "\n",
    "def check_path(path):\n",
    "    \n",
    "    if os.path.exists(path):\n",
    "        print(f\"Path '{path}' exists.\")\n",
    "\n",
    "        directory = os.path.dirname(path)\n",
    "\n",
    "        filename = os.path.basename(path)\n",
    "\n",
    "        print(f\"Directory: {directory}\")\n",
    "        print(f\"Filename: {filename}\")\n",
    "    else:\n",
    "        print(f\"Path '{path}' does not exist.\")\n",
    "\n",
    "check_path(\"example.txt\")  "
   ]
  },
  {
   "cell_type": "code",
   "execution_count": null,
   "id": "42e3f51b-149f-415d-bcf5-18e82a333cb5",
   "metadata": {},
   "outputs": [],
   "source": [
    "# 4 task\n",
    "import os\n",
    "\n",
    "with open(\"sometext.txt\", \"r\", encoding=\"utf-8\") as f:\n",
    "    data = f.read()\n",
    "\n",
    "print(len(data.split(\"\\n\")))\n"
   ]
  },
  {
   "cell_type": "code",
   "execution_count": null,
   "id": "848d7c9a-bd68-4d62-8e95-7e98bf971d87",
   "metadata": {},
   "outputs": [],
   "source": [
    "#5 task\n",
    "def write_some(list_of_elements):\n",
    "    with open(\"sometext.txt\", 'a') as f: \n",
    "        text = \" \".join(map(str, list_of_elements))  \n",
    "        f.write(\"\\n\" + text)  \n",
    "\n",
    "write_some([12345, 56789, 90987654, \"dfghjkl\", \"efrgf\", 34, 34])\n"
   ]
  },
  {
   "cell_type": "code",
   "execution_count": null,
   "id": "62c21bc1-4235-47d1-bec2-beea7910638d",
   "metadata": {},
   "outputs": [],
   "source": [
    "#6 task\n",
    "import string\n",
    "\n",
    "def generate_files():\n",
    "    for letter in string.ascii_uppercase:\n",
    "        filename = letter + \".txt\"\n",
    "        with open(filename, 'w') as file:\n",
    "            file.write(\"hello world\")\n",
    "\n",
    "if __name__ == \"__main__\":\n",
    "    generate_files()"
   ]
  },
  {
   "cell_type": "code",
   "execution_count": null,
   "id": "84774c80-2e74-48f9-b640-3723219cd651",
   "metadata": {},
   "outputs": [],
   "source": [
    "# 7 task\n",
    "def copier():\n",
    "    string = str(input(\"Enter the name of file: \"))\n",
    "    with open(string) as file:\n",
    "        data = file.read()\n",
    "    file.close()\n",
    "    copy_path = \"\"\n",
    "    for i in range(len(string)):\n",
    "        if string[i]=='.':\n",
    "            copy_path+='_1'\n",
    "        copy_path+=string[i]\n",
    "    with open(copy_path, \"+w\") as file_copy:\n",
    "        file_copy.write(data)\n",
    "    file.close()\n",
    "    \n",
    "    return 0\n",
    "\n",
    "copier()"
   ]
  },
  {
   "cell_type": "code",
   "execution_count": null,
   "id": "2e634cd5-bc9f-4927-a459-4c25688672b7",
   "metadata": {},
   "outputs": [],
   "source": [
    "#8 task\n",
    "import os\n",
    "def delete_file(file_path):\n",
    "    if os.path.exists(file_path):\n",
    "        if os.access(file_path,os.W_OK):\n",
    "            try:\n",
    "                os.remove(file_path)\n",
    "                print(f\"file {file_path} delete\") \n",
    "            except Exception as e:\n",
    "                print(\"Error\")\n",
    "                    \n",
    "        else:\n",
    "            print(\"You do not have write access\")\n",
    "    else:\n",
    "        print(f\"File '{file_path}' does not exist.\")\n",
    "            \n",
    "path_delete=str(input(\"path_delere_file:\"))\n",
    "\n",
    "delete_file(path_delete)"
   ]
  }
 ],
 "metadata": {
  "kernelspec": {
   "display_name": "Python [conda env:base] *",
   "language": "python",
   "name": "conda-base-py"
  },
  "language_info": {
   "codemirror_mode": {
    "name": "ipython",
    "version": 3
   },
   "file_extension": ".py",
   "mimetype": "text/x-python",
   "name": "python",
   "nbconvert_exporter": "python",
   "pygments_lexer": "ipython3",
   "version": "3.12.7"
  }
 },
 "nbformat": 4,
 "nbformat_minor": 5
}
